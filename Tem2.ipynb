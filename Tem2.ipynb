{
  "nbformat": 4,
  "nbformat_minor": 0,
  "metadata": {
    "colab": {
      "provenance": [],
      "authorship_tag": "ABX9TyNB8Xi5Yj3e3eDt5PxJ89vD",
      "include_colab_link": true
    },
    "kernelspec": {
      "name": "python3",
      "display_name": "Python 3"
    },
    "language_info": {
      "name": "python"
    }
  },
  "cells": [
    {
      "cell_type": "markdown",
      "metadata": {
        "id": "view-in-github",
        "colab_type": "text"
      },
      "source": [
        "<a href=\"https://colab.research.google.com/github/minseo1201/data-python/blob/main/Tem2.ipynb\" target=\"_parent\"><img src=\"https://colab.research.google.com/assets/colab-badge.svg\" alt=\"Open In Colab\"/></a>"
      ]
    },
    {
      "cell_type": "code",
      "source": [
        "!pip install paho-mqtt"
      ],
      "metadata": {
        "colab": {
          "base_uri": "https://localhost:8080/"
        },
        "id": "YVLF9Iu0nfmm",
        "outputId": "cec52860-1d5c-48e1-afca-b12e444fad29"
      },
      "execution_count": 5,
      "outputs": [
        {
          "output_type": "stream",
          "name": "stdout",
          "text": [
            "Requirement already satisfied: paho-mqtt in /usr/local/lib/python3.10/dist-packages (2.0.0)\n"
          ]
        }
      ]
    },
    {
      "cell_type": "code",
      "source": [
        "import json\n",
        "import requests\n",
        "n=0\n",
        "\n",
        "def doit(topic, payload):\n",
        "  global n\n",
        "  print(topic, payload)\n",
        "  j=json.loads(payload)\n",
        "  #print(j['co2'])\n",
        "  #url='https://api.thingspeak.com/update?api_key=MBXHFKNOS3NTXOGA'\n",
        "  url='https://api.thingspeak.com/update?api_key=FMTNQSF4XKFA25AR'\n",
        "  url +='&field1='+j['co2']\n",
        "  url +='&field2='+j['bme680'].split(',')[0]\n",
        "  if n>15:\n",
        "    r=requests.get(url)\n",
        "    print(url, r.text)\n",
        "    n=0\n",
        "  n+=1"
      ],
      "metadata": {
        "id": "6nLnVs2XnpmP"
      },
      "execution_count": 6,
      "outputs": []
    },
    {
      "cell_type": "code",
      "source": [
        "import paho.mqtt.client as mqtt\n",
        "\n",
        "def on_connect(client, userdata, flags, reason_code, properties):\n",
        "    print(f\"Connected with result code {reason_code}\")\n",
        "    client.subscribe(\"connectware/indoor/data/1501\")\n",
        "\n",
        "def on_message(client, userdata, msg):\n",
        "    doit(msg.topic, msg.payload.decode('utf8'))\n",
        "\n",
        "client = mqtt.Client(mqtt.CallbackAPIVersion.VERSION2)\n",
        "client.on_connect = on_connect\n",
        "client.on_message = on_message\n",
        "\n",
        "client.connect(\"damoa.io\", 1883, 60)\n",
        "client.loop_forever()"
      ],
      "metadata": {
        "colab": {
          "base_uri": "https://localhost:8080/"
        },
        "id": "4pYgtUfmoFK0",
        "outputId": "5b3ebb08-7758-4ae9-f500-a5248d16a9a4"
      },
      "execution_count": null,
      "outputs": [
        {
          "output_type": "stream",
          "name": "stdout",
          "text": [
            "Connected with result code Success\n",
            "connectware/indoor/data/1501 {\"dust\":\"55,67\",\"co2\":\"436\",\"bme680\":\"21.43,22.00,810241,101033,24.34\",\"time\":\"2024-04-07 03:16:39\", \"serial\":215453, \"ip\":\"203.255.190.49\"}\n",
            "connectware/indoor/data/1501 {\"dust\":\"56,68\",\"co2\":\"436\",\"bme680\":\"21.43,22.00,812688,101032,24.42\",\"time\":\"2024-04-07 03:16:40\", \"serial\":215454, \"ip\":\"203.255.190.49\"}\n",
            "connectware/indoor/data/1501 {\"dust\":\"56,67\",\"co2\":\"436\",\"bme680\":\"21.43,22.00,818624,101032,24.42\",\"time\":\"2024-04-07 03:16:41\", \"serial\":215455, \"ip\":\"203.255.190.49\"}\n",
            "connectware/indoor/data/1501 {\"dust\":\"56,68\",\"co2\":\"436\",\"bme680\":\"21.43,22.00,808779,101032,24.42\",\"time\":\"2024-04-07 03:16:42\", \"serial\":215456, \"ip\":\"203.255.190.49\"}\n",
            "connectware/indoor/data/1501 {\"dust\":\"55,67\",\"co2\":\"436\",\"bme680\":\"21.43,22.01,816636,101033,24.34\",\"time\":\"2024-04-07 03:16:43\", \"serial\":215457, \"ip\":\"203.255.190.49\"}\n",
            "connectware/indoor/data/1501 {\"dust\":\"55,67\",\"co2\":\"436\",\"bme680\":\"21.43,22.01,810729,101032,24.42\",\"time\":\"2024-04-07 03:16:44\", \"serial\":215458, \"ip\":\"203.255.190.49\"}\n",
            "connectware/indoor/data/1501 {\"dust\":\"56,67\",\"co2\":\"436\",\"bme680\":\"21.43,22.01,810241,101031,24.42\",\"time\":\"2024-04-07 03:16:45\", \"serial\":215459, \"ip\":\"203.255.190.49\"}\n",
            "connectware/indoor/data/1501 {\"dust\":\"56,67\",\"co2\":\"436\",\"bme680\":\"21.43,22.01,809753,101032,24.51\",\"time\":\"2024-04-07 03:16:46\", \"serial\":215460, \"ip\":\"203.255.190.49\"}\n",
            "connectware/indoor/data/1501 {\"dust\":\"55,67\",\"co2\":\"436\",\"bme680\":\"21.43,22.01,805871,101031,24.51\",\"time\":\"2024-04-07 03:16:47\", \"serial\":215461, \"ip\":\"203.255.190.49\"}\n",
            "connectware/indoor/data/1501 {\"dust\":\"56,67\",\"co2\":\"436\",\"bme680\":\"21.43,22.02,812688,101031,24.42\",\"time\":\"2024-04-07 03:16:48\", \"serial\":215462, \"ip\":\"203.255.190.49\"}\n",
            "connectware/indoor/data/1501 {\"dust\":\"57,68\",\"co2\":\"435\",\"bme680\":\"21.43,22.02,815151,101032,24.42\",\"time\":\"2024-04-07 03:16:49\", \"serial\":215463, \"ip\":\"203.255.190.49\"}\n",
            "connectware/indoor/data/1501 {\"dust\":\"57,68\",\"co2\":\"435\",\"bme680\":\"21.43,22.02,803945,101032,24.42\",\"time\":\"2024-04-07 03:16:50\", \"serial\":215464, \"ip\":\"203.255.190.49\"}\n",
            "connectware/indoor/data/1501 {\"dust\":\"57,69\",\"co2\":\"435\",\"bme680\":\"21.43,22.02,808779,101032,24.34\",\"time\":\"2024-04-07 03:16:51\", \"serial\":215465, \"ip\":\"203.255.190.49\"}\n",
            "connectware/indoor/data/1501 {\"dust\":\"57,69\",\"co2\":\"435\",\"bme680\":\"21.43,22.01,809753,101033,24.42\",\"time\":\"2024-04-07 03:16:52\", \"serial\":215466, \"ip\":\"203.255.190.49\"}\n",
            "connectware/indoor/data/1501 {\"dust\":\"57,70\",\"co2\":\"435\",\"bme680\":\"21.43,22.03,814164,101032,24.42\",\"time\":\"2024-04-07 03:16:53\", \"serial\":215467, \"ip\":\"203.255.190.49\"}\n",
            "connectware/indoor/data/1501 {\"dust\":\"58,70\",\"co2\":\"435\",\"bme680\":\"21.43,22.02,815645,101032,24.42\",\"time\":\"2024-04-07 03:16:54\", \"serial\":215468, \"ip\":\"203.255.190.49\"}\n",
            "connectware/indoor/data/1501 {\"dust\":\"58,71\",\"co2\":\"435\",\"bme680\":\"21.43,22.03,797746,101032,24.42\",\"time\":\"2024-04-07 03:16:55\", \"serial\":215469, \"ip\":\"203.255.190.49\"}\n",
            "https://api.thingspeak.com/update?api_key=FMTNQSF4XKFA25AR&field1=435&field2=21.43 1\n",
            "connectware/indoor/data/1501 {\"dust\":\"59,71\",\"co2\":\"435\",\"bme680\":\"21.43,22.02,810241,101032,24.42\",\"time\":\"2024-04-07 03:16:56\", \"serial\":215470, \"ip\":\"203.255.190.49\"}\n",
            "connectware/indoor/data/1501 {\"dust\":\"59,71\",\"co2\":\"435\",\"bme680\":\"21.43,22.02,808779,101032,24.42\",\"time\":\"2024-04-07 03:16:57\", \"serial\":215471, \"ip\":\"203.255.190.49\"}\n",
            "connectware/indoor/data/1501 {\"dust\":\"58,71\",\"co2\":\"435\",\"bme680\":\"21.43,22.02,810729,101033,24.34\",\"time\":\"2024-04-07 03:16:58\", \"serial\":215472, \"ip\":\"203.255.190.49\"}\n",
            "connectware/indoor/data/1501 {\"dust\":\"57,70\",\"co2\":\"434\",\"bme680\":\"21.43,22.02,814657,101033,24.34\",\"time\":\"2024-04-07 03:16:59\", \"serial\":215473, \"ip\":\"203.255.190.49\"}\n",
            "connectware/indoor/data/1501 {\"dust\":\"57,70\",\"co2\":\"434\",\"bme680\":\"21.43,22.02,809753,101034,24.26\",\"time\":\"2024-04-07 03:17:00\", \"serial\":215474, \"ip\":\"203.255.190.49\"}\n",
            "connectware/indoor/data/1501 {\"dust\":\"57,69\",\"co2\":\"434\",\"bme680\":\"21.43,22.02,807807,101033,24.34\",\"time\":\"2024-04-07 03:17:01\", \"serial\":215475, \"ip\":\"203.255.190.49\"}\n",
            "connectware/indoor/data/1501 {\"dust\":\"57,69\",\"co2\":\"434\",\"bme680\":\"21.43,22.03,813672,101032,24.42\",\"time\":\"2024-04-07 03:17:02\", \"serial\":215476, \"ip\":\"203.255.190.49\"}\n",
            "connectware/indoor/data/1501 {\"dust\":\"56,68\",\"co2\":\"434\",\"bme680\":\"21.43,22.02,812198,101032,24.42\",\"time\":\"2024-04-07 03:17:03\", \"serial\":215477, \"ip\":\"203.255.190.49\"}\n",
            "connectware/indoor/data/1501 {\"dust\":\"54,67\",\"co2\":\"433\",\"bme680\":\"21.43,22.02,815645,101032,24.42\",\"time\":\"2024-04-07 03:17:04\", \"serial\":215478, \"ip\":\"203.255.190.49\"}\n",
            "connectware/indoor/data/1501 {\"dust\":\"53,66\",\"co2\":\"433\",\"bme680\":\"21.43,22.02,817629,101033,24.34\",\"time\":\"2024-04-07 03:17:05\", \"serial\":215479, \"ip\":\"203.255.190.49\"}\n",
            "connectware/indoor/data/1501 {\"dust\":\"53,67\",\"co2\":\"433\",\"bme680\":\"21.43,22.03,798219,101033,24.34\",\"time\":\"2024-04-07 03:17:06\", \"serial\":215480, \"ip\":\"203.255.190.49\"}\n",
            "connectware/indoor/data/1501 {\"dust\":\"51,65\",\"co2\":\"433\",\"bme680\":\"21.43,22.03,813180,101033,24.34\",\"time\":\"2024-04-07 03:17:07\", \"serial\":215481, \"ip\":\"203.255.190.49\"}\n",
            "connectware/indoor/data/1501 {\"dust\":\"51,65\",\"co2\":\"433\",\"bme680\":\"21.43,22.02,809265,101033,24.42\",\"time\":\"2024-04-07 03:17:08\", \"serial\":215482, \"ip\":\"203.255.190.49\"}\n",
            "connectware/indoor/data/1501 {\"dust\":\"51,65\",\"co2\":\"432\",\"bme680\":\"21.43,22.03,811707,101033,24.42\",\"time\":\"2024-04-07 03:17:09\", \"serial\":215483, \"ip\":\"203.255.190.49\"}\n",
            "connectware/indoor/data/1501 {\"dust\":\"52,66\",\"co2\":\"432\",\"bme680\":\"21.43,22.03,810729,101033,24.26\",\"time\":\"2024-04-07 03:17:10\", \"serial\":215484, \"ip\":\"203.255.190.49\"}\n",
            "connectware/indoor/data/1501 {\"dust\":\"52,66\",\"co2\":\"432\",\"bme680\":\"21.43,22.02,812198,101034,24.26\",\"time\":\"2024-04-07 03:17:11\", \"serial\":215485, \"ip\":\"203.255.190.49\"}\n",
            "https://api.thingspeak.com/update?api_key=FMTNQSF4XKFA25AR&field1=432&field2=21.43 2\n",
            "connectware/indoor/data/1501 {\"dust\":\"53,67\",\"co2\":\"432\",\"bme680\":\"21.43,22.03,815151,101034,24.26\",\"time\":\"2024-04-07 03:17:12\", \"serial\":215486, \"ip\":\"203.255.190.49\"}\n",
            "connectware/indoor/data/1501 {\"dust\":\"53,67\",\"co2\":\"432\",\"bme680\":\"21.43,22.03,811218,101033,24.34\",\"time\":\"2024-04-07 03:17:13\", \"serial\":215487, \"ip\":\"203.255.190.49\"}\n",
            "connectware/indoor/data/1501 {\"dust\":\"54,67\",\"co2\":\"432\",\"bme680\":\"21.43,22.03,813672,101033,24.34\",\"time\":\"2024-04-07 03:17:14\", \"serial\":215488, \"ip\":\"203.255.190.49\"}\n",
            "connectware/indoor/data/1501 {\"dust\":\"53,65\",\"co2\":\"432\",\"bme680\":\"21.43,22.03,800595,101032,24.42\",\"time\":\"2024-04-07 03:17:15\", \"serial\":215489, \"ip\":\"203.255.190.49\"}\n",
            "connectware/indoor/data/1501 {\"dust\":\"54,65\",\"co2\":\"432\",\"bme680\":\"21.43,22.04,812198,101032,24.34\",\"time\":\"2024-04-07 03:17:16\", \"serial\":215490, \"ip\":\"203.255.190.49\"}\n",
            "connectware/indoor/data/1501 {\"dust\":\"54,67\",\"co2\":\"432\",\"bme680\":\"21.43,22.03,818126,101033,24.34\",\"time\":\"2024-04-07 03:17:17\", \"serial\":215491, \"ip\":\"203.255.190.49\"}\n",
            "connectware/indoor/data/1501 {\"dust\":\"56,70\",\"co2\":\"432\",\"bme680\":\"21.43,22.03,809265,101033,24.34\",\"time\":\"2024-04-07 03:17:18\", \"serial\":215492, \"ip\":\"203.255.190.49\"}\n",
            "connectware/indoor/data/1501 {\"dust\":\"54,69\",\"co2\":\"433\",\"bme680\":\"21.43,22.04,801072,101033,24.34\",\"time\":\"2024-04-07 03:17:19\", \"serial\":215493, \"ip\":\"203.255.190.49\"}\n",
            "connectware/indoor/data/1501 {\"dust\":\"54,70\",\"co2\":\"433\",\"bme680\":\"21.43,22.03,817629,101033,24.26\",\"time\":\"2024-04-07 03:17:20\", \"serial\":215494, \"ip\":\"203.255.190.49\"}\n",
            "connectware/indoor/data/1501 {\"dust\":\"54,68\",\"co2\":\"433\",\"bme680\":\"21.43,22.03,809753,101034,24.34\",\"time\":\"2024-04-07 03:17:21\", \"serial\":215495, \"ip\":\"203.255.190.49\"}\n",
            "connectware/indoor/data/1501 {\"dust\":\"52,67\",\"co2\":\"433\",\"bme680\":\"21.43,22.03,802506,101033,24.42\",\"time\":\"2024-04-07 03:17:22\", \"serial\":215496, \"ip\":\"203.255.190.49\"}\n",
            "connectware/indoor/data/1501 {\"dust\":\"53,67\",\"co2\":\"433\",\"bme680\":\"21.43,22.04,798693,101033,24.34\",\"time\":\"2024-04-07 03:17:23\", \"serial\":215497, \"ip\":\"203.255.190.49\"}\n",
            "connectware/indoor/data/1501 {\"dust\":\"54,68\",\"co2\":\"432\",\"bme680\":\"21.43,22.04,796800,101033,24.42\",\"time\":\"2024-04-07 03:17:24\", \"serial\":215498, \"ip\":\"203.255.190.49\"}\n",
            "connectware/indoor/data/1501 {\"dust\":\"55,68\",\"co2\":\"432\",\"bme680\":\"21.43,22.03,809753,101032,24.42\",\"time\":\"2024-04-07 03:17:25\", \"serial\":215499, \"ip\":\"203.255.190.49\"}\n",
            "connectware/indoor/data/1501 {\"dust\":\"54,67\",\"co2\":\"432\",\"bme680\":\"21.43,22.03,804907,101033,24.34\",\"time\":\"2024-04-07 03:17:26\", \"serial\":215500, \"ip\":\"203.255.190.49\"}\n",
            "connectware/indoor/data/1501 {\"dust\":\"57,69\",\"co2\":\"432\",\"bme680\":\"21.43,22.04,809265,101032,24.34\",\"time\":\"2024-04-07 03:17:27\", \"serial\":215501, \"ip\":\"203.255.190.49\"}\n",
            "https://api.thingspeak.com/update?api_key=FMTNQSF4XKFA25AR&field1=432&field2=21.43 3\n",
            "connectware/indoor/data/1501 {\"dust\":\"58,69\",\"co2\":\"432\",\"bme680\":\"21.43,22.04,812198,101033,24.42\",\"time\":\"2024-04-07 03:17:28\", \"serial\":215502, \"ip\":\"203.255.190.49\"}\n",
            "connectware/indoor/data/1501 {\"dust\":\"59,69\",\"co2\":\"432\",\"bme680\":\"21.43,22.04,811707,101033,24.42\",\"time\":\"2024-04-07 03:17:29\", \"serial\":215503, \"ip\":\"203.255.190.49\"}\n",
            "connectware/indoor/data/1501 {\"dust\":\"59,69\",\"co2\":\"432\",\"bme680\":\"21.43,22.03,808779,101032,24.34\",\"time\":\"2024-04-07 03:17:30\", \"serial\":215504, \"ip\":\"203.255.190.49\"}\n",
            "connectware/indoor/data/1501 {\"dust\":\"59,69\",\"co2\":\"432\",\"bme680\":\"21.43,22.03,818126,101032,24.34\",\"time\":\"2024-04-07 03:17:31\", \"serial\":215505, \"ip\":\"203.255.190.49\"}\n",
            "connectware/indoor/data/1501 {\"dust\":\"58,68\",\"co2\":\"432\",\"bme680\":\"21.43,22.04,814657,101033,24.34\",\"time\":\"2024-04-07 03:17:32\", \"serial\":215506, \"ip\":\"203.255.190.49\"}\n",
            "connectware/indoor/data/1501 {\"dust\":\"57,68\",\"co2\":\"432\",\"bme680\":\"21.43,22.04,803945,101033,24.34\",\"time\":\"2024-04-07 03:17:33\", \"serial\":215507, \"ip\":\"203.255.190.49\"}\n",
            "connectware/indoor/data/1501 {\"dust\":\"57,68\",\"co2\":\"430\",\"bme680\":\"21.43,22.04,810729,101032,24.42\",\"time\":\"2024-04-07 03:17:34\", \"serial\":215508, \"ip\":\"203.255.190.49\"}\n",
            "connectware/indoor/data/1501 {\"dust\":\"58,69\",\"co2\":\"430\",\"bme680\":\"21.43,22.04,808779,101031,24.42\",\"time\":\"2024-04-07 03:17:35\", \"serial\":215509, \"ip\":\"203.255.190.49\"}\n",
            "connectware/indoor/data/1501 {\"dust\":\"57,68\",\"co2\":\"430\",\"bme680\":\"21.43,22.03,799643,101032,24.34\",\"time\":\"2024-04-07 03:17:36\", \"serial\":215510, \"ip\":\"203.255.190.49\"}\n",
            "connectware/indoor/data/1501 {\"dust\":\"57,68\",\"co2\":\"430\",\"bme680\":\"21.43,22.04,815645,101033,24.26\",\"time\":\"2024-04-07 03:17:37\", \"serial\":215511, \"ip\":\"203.255.190.49\"}\n"
          ]
        }
      ]
    }
  ]
}