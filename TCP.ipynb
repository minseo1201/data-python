{
  "nbformat": 4,
  "nbformat_minor": 0,
  "metadata": {
    "colab": {
      "provenance": [],
      "authorship_tag": "ABX9TyMvetnj1K4N7FpNJX577zJu",
      "include_colab_link": true
    },
    "kernelspec": {
      "name": "python3",
      "display_name": "Python 3"
    },
    "language_info": {
      "name": "python"
    }
  },
  "cells": [
    {
      "cell_type": "markdown",
      "metadata": {
        "id": "view-in-github",
        "colab_type": "text"
      },
      "source": [
        "<a href=\"https://colab.research.google.com/github/minseo1201/data-python/blob/main/TCP.ipynb\" target=\"_parent\"><img src=\"https://colab.research.google.com/assets/colab-badge.svg\" alt=\"Open In Colab\"/></a>"
      ]
    },
    {
      "cell_type": "code",
      "execution_count": 1,
      "metadata": {
        "colab": {
          "base_uri": "https://localhost:8080/"
        },
        "id": "iZbmVmj3nmiR",
        "outputId": "4218281c-4b23-4b3c-fca6-6c4fdd701398"
      },
      "outputs": [
        {
          "output_type": "stream",
          "name": "stdout",
          "text": [
            "Received HTTP/1.1 505 HTTP Version Not Supported\r\n",
            "Date: Mon, 01 Apr 2024 03:06:01 GMT\r\n",
            "Connection: close\r\n",
            "Content-Type: text/html\r\n",
            "Content-Length: 182\r\n",
            "\r\n",
            "<!DOCTYPE HTML PUBLIC \"-//IETF//DTD HTML 2.0//EN\">\n",
            "<HTML><HEAD>\n",
            "<TITLE> 505 HTTP Version Not Supported </TITLE>\n",
            "</HEAD><BODY>\n",
            "<H1>HTTP Version Not Supported</H1>\n",
            "<HR>\n",
            "</BODY></HTML>\n",
            "\n"
          ]
        }
      ],
      "source": [
        "import socket\n",
        "\n",
        "HOST = \"203.255.161.161\"\n",
        "PORT = 80\n",
        "\n",
        "with socket.socket(socket.AF_INET, socket.SOCK_STREAM) as s:\n",
        "    s.connect((HOST, PORT))\n",
        "    s.sendall(b\"GET / HTTP/1.2\\n\\n\")\n",
        "    data = s.recv(1024)\n",
        "\n",
        "print(f\"Received {data.decode('utf-8')}\")"
      ]
    },
    {
      "cell_type": "code",
      "source": [
        "!curl ipecho.net/plain"
      ],
      "metadata": {
        "colab": {
          "base_uri": "https://localhost:8080/"
        },
        "id": "phZVmjfhnwum",
        "outputId": "6531c59b-4fa2-4b34-f2e7-b45fd37bb0c4"
      },
      "execution_count": 2,
      "outputs": [
        {
          "output_type": "stream",
          "name": "stdout",
          "text": [
            "34.16.191.255"
          ]
        }
      ]
    }
  ]
}