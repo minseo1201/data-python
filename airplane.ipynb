{
  "nbformat": 4,
  "nbformat_minor": 0,
  "metadata": {
    "colab": {
      "provenance": [],
      "authorship_tag": "ABX9TyO2KucdV2wofHfIZ0n9GsH6",
      "include_colab_link": true
    },
    "kernelspec": {
      "name": "python3",
      "display_name": "Python 3"
    },
    "language_info": {
      "name": "python"
    }
  },
  "cells": [
    {
      "cell_type": "markdown",
      "metadata": {
        "id": "view-in-github",
        "colab_type": "text"
      },
      "source": [
        "<a href=\"https://colab.research.google.com/github/minseo1201/data-python/blob/main/airplane.ipynb\" target=\"_parent\"><img src=\"https://colab.research.google.com/assets/colab-badge.svg\" alt=\"Open In Colab\"/></a>"
      ]
    },
    {
      "cell_type": "code",
      "execution_count": 7,
      "metadata": {
        "id": "SaiEMhLpddOM",
        "colab": {
          "base_uri": "https://localhost:8080/"
        },
        "outputId": "0888d01f-acb9-46d9-b459-86aa8a084da8"
      },
      "outputs": [
        {
          "output_type": "stream",
          "name": "stdout",
          "text": [
            "b'<?xml version=\"1.0\" encoding=\"UTF-8\" standalone=\"yes\"?><response><header><resultCode>00</resultCode><resultMsg>NORMAL SERVICE.</resultMsg></header><body><items><item><airport>FUK</airport><entrygate>E</entrygate><estimatedtime>202403181135</estimatedtime><flightid>BX155</flightid><foreigner>0.0</foreigner><gatenumber>47</gatenumber><korean>0.0</korean><scheduletime>202403181125</scheduletime><terno>T1</terno></item><item><airport>SHE</airport><entrygate>D</entrygate><estimatedtime>202403181145</estimatedtime><flightid>CZ681</flightid><foreigner>0.0</foreigner><gatenumber>130</gatenumber><korean>0.0</korean><scheduletime>202403181135</scheduletime><terno>T1</terno></item><item><airport>NRT</airport><entrygate>B</entrygate><estimatedtime>202403181150</estimatedtime><flightid>OZ107</flightid><foreigner>0.0</foreigner><gatenumber>24</gatenumber><korean>0.0</korean><scheduletime>202403181140</scheduletime><terno>T1</terno></item><item><airport>NRT</airport><entrygate>C</entrygate><estimatedtime>202403181139</estimatedtime><flightid>ZG041</flightid><foreigner>0.0</foreigner><gatenumber>111</gatenumber><korean>0.0</korean><scheduletime>202403181140</scheduletime><terno>T1</terno></item><item><airport>KIX</airport><entrygate>C</entrygate><estimatedtime>202403181152</estimatedtime><flightid>7C1303</flightid><foreigner>0.0</foreigner><gatenumber>103</gatenumber><korean>0.0</korean><scheduletime>202403181150</scheduletime><terno>T1</terno></item><item><airport>PEK</airport><entrygate>E</entrygate><estimatedtime>202403181156</estimatedtime><flightid>CA123</flightid><foreigner>0.0</foreigner><gatenumber>36</gatenumber><korean>0.0</korean><scheduletime>202403181150</scheduletime><terno>T1</terno></item><item><airport>KIX</airport><entrygate>D</entrygate><estimatedtime>202403181208</estimatedtime><flightid>RS712</flightid><foreigner>0.0</foreigner><gatenumber>118</gatenumber><korean>0.0</korean><scheduletime>202403181155</scheduletime><terno>T1</terno></item><item><airport>PVG</airport><entrygate>D</entrygate><estimatedtime>202403181213</estimatedtime><flightid>MU5041</flightid><foreigner>1.0</foreigner><gatenumber>124</gatenumber><korean>0.0</korean><scheduletime>202403181155</scheduletime><terno>T1</terno></item><item><airport>FUK</airport><entrygate>B</entrygate><estimatedtime>202403181212</estimatedtime><flightid>RS728</flightid><foreigner>0.0</foreigner><gatenumber>20</gatenumber><korean>0.0</korean><scheduletime>202403181205</scheduletime><terno>T1</terno></item><item><airport>TAO</airport><entrygate>D</entrygate><estimatedtime>202403181154</estimatedtime><flightid>TW608</flightid><foreigner>1.0</foreigner><gatenumber>126</gatenumber><korean>0.0</korean><scheduletime>202403181205</scheduletime><terno>T1</terno></item></items><numOfRows>10</numOfRows><pageNo>1</pageNo><totalCount>36</totalCount></body></response>'\n"
          ]
        }
      ],
      "source": [
        "import requests\n",
        "\n",
        "url = 'http://apis.data.go.kr/B551177/StatusOfArrivals/getArrivalsCongestion'\n",
        "params ={'serviceKey' : 'RjMSal1QoAwcARS1XReVqAD9nH5/lTyLtmOr+x+gs3WpXEr+wG/PmdPr/CaVRyPiN33R2oPo0Ksoc0q3Mj2+xw==', 'numOfRows' : '10', 'pageNo' : '1'}\n",
        "\n",
        "response = requests.get(url, params=params)\n",
        "print(response.content)"
      ]
    },
    {
      "cell_type": "code",
      "source": [
        "from bs4 import BeautifulSoup\n",
        "soup = BeautifulSoup(response.text, features=\"xml\")"
      ],
      "metadata": {
        "id": "HCS-mc9NfW9X"
      },
      "execution_count": 8,
      "outputs": []
    },
    {
      "cell_type": "code",
      "source": [
        "soup.find_all('flightid')"
      ],
      "metadata": {
        "colab": {
          "base_uri": "https://localhost:8080/"
        },
        "id": "dSDAmMugfvnb",
        "outputId": "896dfd4c-d21e-4e87-8161-0b0ca17401a7"
      },
      "execution_count": 10,
      "outputs": [
        {
          "output_type": "execute_result",
          "data": {
            "text/plain": [
              "[<flightid>BX155</flightid>,\n",
              " <flightid>CZ681</flightid>,\n",
              " <flightid>OZ107</flightid>,\n",
              " <flightid>ZG041</flightid>,\n",
              " <flightid>7C1303</flightid>,\n",
              " <flightid>CA123</flightid>,\n",
              " <flightid>RS712</flightid>,\n",
              " <flightid>MU5041</flightid>,\n",
              " <flightid>RS728</flightid>,\n",
              " <flightid>TW608</flightid>]"
            ]
          },
          "metadata": {},
          "execution_count": 10
        }
      ]
    }
  ]
}