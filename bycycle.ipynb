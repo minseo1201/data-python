{
  "nbformat": 4,
  "nbformat_minor": 0,
  "metadata": {
    "colab": {
      "provenance": [],
      "authorship_tag": "ABX9TyMn5RUNuq2PyvjLIgn3MVmL",
      "include_colab_link": true
    },
    "kernelspec": {
      "name": "python3",
      "display_name": "Python 3"
    },
    "language_info": {
      "name": "python"
    }
  },
  "cells": [
    {
      "cell_type": "markdown",
      "metadata": {
        "id": "view-in-github",
        "colab_type": "text"
      },
      "source": [
        "<a href=\"https://colab.research.google.com/github/minseo1201/data-python/blob/main/bycycle.ipynb\" target=\"_parent\"><img src=\"https://colab.research.google.com/assets/colab-badge.svg\" alt=\"Open In Colab\"/></a>"
      ]
    },
    {
      "cell_type": "code",
      "execution_count": 11,
      "metadata": {
        "colab": {
          "base_uri": "https://localhost:8080/"
        },
        "id": "uaw-Me2xF33C",
        "outputId": "7fa3f187-17aa-4ad0-ce86-0d42270ee066"
      },
      "outputs": [
        {
          "output_type": "stream",
          "name": "stdout",
          "text": [
            "{'rentBikeStatus': {'list_total_count': 5, 'RESULT': {'CODE': 'INFO-000', 'MESSAGE': '정상 처리되었습니다.'}, 'row': [{'rackTotCnt': '14', 'stationName': '103. 망원역 2번출구 앞', 'parkingBikeTotCnt': '27', 'shared': '193', 'stationLatitude': '37.55495071', 'stationLongitude': '126.91083527', 'stationId': 'ST-5'}, {'rackTotCnt': '13', 'stationName': '104. 합정역 1번출구 앞', 'parkingBikeTotCnt': '15', 'shared': '115', 'stationLatitude': '37.55073929', 'stationLongitude': '126.91508484', 'stationId': 'ST-6'}, {'rackTotCnt': '5', 'stationName': '105. 합정역 5번출구 앞', 'parkingBikeTotCnt': '18', 'shared': '360', 'stationLatitude': '37.55000687', 'stationLongitude': '126.91482544', 'stationId': 'ST-7'}, {'rackTotCnt': '12', 'stationName': '106. 합정역 7번출구 앞', 'parkingBikeTotCnt': '4', 'shared': '33', 'stationLatitude': '37.54864502', 'stationLongitude': '126.91282654', 'stationId': 'ST-8'}, {'rackTotCnt': '5', 'stationName': '107. 신한은행 서교동지점', 'parkingBikeTotCnt': '14', 'shared': '280', 'stationLatitude': '37.55751038', 'stationLongitude': '126.91850281', 'stationId': 'ST-9'}]}}\n"
          ]
        }
      ],
      "source": [
        "import requests\n",
        "r = requests.get('http://openapi.seoul.go.kr:8088/6c516d6c4363686f35365a50706662/json/bikeList/2/6/ ')\n",
        "print(r.json())\n",
        "j=r.json()"
      ]
    },
    {
      "cell_type": "code",
      "source": [
        "for x in j['rentBikeStatus']['row']:\n",
        "  print('자전거주차총건수:',x['stationName'], x['parkingBikeTotCnt'])"
      ],
      "metadata": {
        "colab": {
          "base_uri": "https://localhost:8080/"
        },
        "id": "yJZeYLSnF5fu",
        "outputId": "e0a42783-8431-41da-d8bb-63589cb3d10b"
      },
      "execution_count": 12,
      "outputs": [
        {
          "output_type": "stream",
          "name": "stdout",
          "text": [
            "자전거주차총건수: 103. 망원역 2번출구 앞 27\n",
            "자전거주차총건수: 104. 합정역 1번출구 앞 15\n",
            "자전거주차총건수: 105. 합정역 5번출구 앞 18\n",
            "자전거주차총건수: 106. 합정역 7번출구 앞 4\n",
            "자전거주차총건수: 107. 신한은행 서교동지점 14\n"
          ]
        }
      ]
    }
  ]
}